{
 "cells": [
  {
   "cell_type": "code",
   "execution_count": 55,
   "metadata": {},
   "outputs": [],
   "source": [
    "import requests                         # 웹 문서를 text형태로 가져오기 위해 필요\n",
    "from bs4 import BeautifulSoup as bs     # 가져온 text형태의 문서의 태그에 접근할 수 있게 정제\n",
    "import pandas as pd                     # 데이터 분석\n",
    "from selenium import webdriver          # 웹 브라우저 컨트롤 (막힌 사이트 스크래핑 용)\n",
    "from urllib.request import urlretrieve\n",
    "import re\n",
    "import time\n",
    "from selenium.webdriver.common.by import By\n",
    "from selenium.webdriver.common.keys import Keys"
   ]
  },
  {
   "cell_type": "code",
   "execution_count": 17,
   "metadata": {},
   "outputs": [
    {
     "data": {
      "text/html": [
       "<div>\n",
       "<style scoped>\n",
       "    .dataframe tbody tr th:only-of-type {\n",
       "        vertical-align: middle;\n",
       "    }\n",
       "\n",
       "    .dataframe tbody tr th {\n",
       "        vertical-align: top;\n",
       "    }\n",
       "\n",
       "    .dataframe thead th {\n",
       "        text-align: right;\n",
       "    }\n",
       "</style>\n",
       "<table border=\"1\" class=\"dataframe\">\n",
       "  <thead>\n",
       "    <tr style=\"text-align: right;\">\n",
       "      <th></th>\n",
       "      <th>타이틀</th>\n",
       "    </tr>\n",
       "  </thead>\n",
       "  <tbody>\n",
       "    <tr>\n",
       "      <th>0</th>\n",
       "      <td>뷰티풀 군바리</td>\n",
       "    </tr>\n",
       "    <tr>\n",
       "      <th>1</th>\n",
       "      <td>퀘스트지상주의</td>\n",
       "    </tr>\n",
       "    <tr>\n",
       "      <th>2</th>\n",
       "      <td>신의 탑</td>\n",
       "    </tr>\n",
       "    <tr>\n",
       "      <th>3</th>\n",
       "      <td>장씨세가 호위무사</td>\n",
       "    </tr>\n",
       "    <tr>\n",
       "      <th>4</th>\n",
       "      <td>신화급 귀속 아이템을 손에 넣었다</td>\n",
       "    </tr>\n",
       "    <tr>\n",
       "      <th>...</th>\n",
       "      <td>...</td>\n",
       "    </tr>\n",
       "    <tr>\n",
       "      <th>567</th>\n",
       "      <td>밀실 마피아 게임</td>\n",
       "    </tr>\n",
       "    <tr>\n",
       "      <th>568</th>\n",
       "      <td>아마도, 굿모닝</td>\n",
       "    </tr>\n",
       "    <tr>\n",
       "      <th>569</th>\n",
       "      <td>천년간 노려왔습니다</td>\n",
       "    </tr>\n",
       "    <tr>\n",
       "      <th>570</th>\n",
       "      <td>그림자 잡기</td>\n",
       "    </tr>\n",
       "    <tr>\n",
       "      <th>571</th>\n",
       "      <td>어떤소란</td>\n",
       "    </tr>\n",
       "  </tbody>\n",
       "</table>\n",
       "<p>572 rows × 1 columns</p>\n",
       "</div>"
      ],
      "text/plain": [
       "                    타이틀\n",
       "0               뷰티풀 군바리\n",
       "1               퀘스트지상주의\n",
       "2                  신의 탑\n",
       "3             장씨세가 호위무사\n",
       "4    신화급 귀속 아이템을 손에 넣었다\n",
       "..                  ...\n",
       "567           밀실 마피아 게임\n",
       "568            아마도, 굿모닝\n",
       "569          천년간 노려왔습니다\n",
       "570              그림자 잡기\n",
       "571                어떤소란\n",
       "\n",
       "[572 rows x 1 columns]"
      ]
     },
     "execution_count": 17,
     "metadata": {},
     "output_type": "execute_result"
    }
   ],
   "source": [
    "'''\n",
    "네이버 웹툰 Title\n",
    "'''\n",
    "html = requests.get('https://comic.naver.com/webtoon/weekday')\n",
    "bsObj = bs(html.text, \"html.parser\")\n",
    "\n",
    "titles = bsObj.select('.title')\n",
    "\n",
    "data = []\n",
    "for i in range(len(titles)):\n",
    "    title = titles[i].text\n",
    "    data.append([title])\n",
    "df = pd.DataFrame(data, columns=['타이틀'])\n",
    "df"
   ]
  },
  {
   "cell_type": "code",
   "execution_count": 41,
   "metadata": {},
   "outputs": [
    {
     "data": {
      "text/html": [
       "<div>\n",
       "<style scoped>\n",
       "    .dataframe tbody tr th:only-of-type {\n",
       "        vertical-align: middle;\n",
       "    }\n",
       "\n",
       "    .dataframe tbody tr th {\n",
       "        vertical-align: top;\n",
       "    }\n",
       "\n",
       "    .dataframe thead th {\n",
       "        text-align: right;\n",
       "    }\n",
       "</style>\n",
       "<table border=\"1\" class=\"dataframe\">\n",
       "  <thead>\n",
       "    <tr style=\"text-align: right;\">\n",
       "      <th></th>\n",
       "      <th>title</th>\n",
       "      <th>img</th>\n",
       "    </tr>\n",
       "  </thead>\n",
       "  <tbody>\n",
       "    <tr>\n",
       "      <th>0</th>\n",
       "      <td>뷰티풀 군바리</td>\n",
       "      <td>https://shared-comic.pstatic.net/thumb/webtoon...</td>\n",
       "    </tr>\n",
       "    <tr>\n",
       "      <th>1</th>\n",
       "      <td>퀘스트지상주의</td>\n",
       "      <td>https://shared-comic.pstatic.net/thumb/webtoon...</td>\n",
       "    </tr>\n",
       "    <tr>\n",
       "      <th>2</th>\n",
       "      <td>신의 탑</td>\n",
       "      <td>https://shared-comic.pstatic.net/thumb/webtoon...</td>\n",
       "    </tr>\n",
       "    <tr>\n",
       "      <th>3</th>\n",
       "      <td>장씨세가 호위무사</td>\n",
       "      <td>https://shared-comic.pstatic.net/thumb/webtoon...</td>\n",
       "    </tr>\n",
       "    <tr>\n",
       "      <th>4</th>\n",
       "      <td>신화급 귀속 아이템을 손에 넣었다</td>\n",
       "      <td>https://shared-comic.pstatic.net/thumb/webtoon...</td>\n",
       "    </tr>\n",
       "    <tr>\n",
       "      <th>...</th>\n",
       "      <td>...</td>\n",
       "      <td>...</td>\n",
       "    </tr>\n",
       "    <tr>\n",
       "      <th>567</th>\n",
       "      <td>밀실 마피아 게임</td>\n",
       "      <td>https://shared-comic.pstatic.net/thumb/webtoon...</td>\n",
       "    </tr>\n",
       "    <tr>\n",
       "      <th>568</th>\n",
       "      <td>아마도, 굿모닝</td>\n",
       "      <td>https://shared-comic.pstatic.net/thumb/webtoon...</td>\n",
       "    </tr>\n",
       "    <tr>\n",
       "      <th>569</th>\n",
       "      <td>천년간 노려왔습니다</td>\n",
       "      <td>https://shared-comic.pstatic.net/thumb/webtoon...</td>\n",
       "    </tr>\n",
       "    <tr>\n",
       "      <th>570</th>\n",
       "      <td>그림자 잡기</td>\n",
       "      <td>https://shared-comic.pstatic.net/thumb/webtoon...</td>\n",
       "    </tr>\n",
       "    <tr>\n",
       "      <th>571</th>\n",
       "      <td>어떤소란</td>\n",
       "      <td>https://shared-comic.pstatic.net/thumb/webtoon...</td>\n",
       "    </tr>\n",
       "  </tbody>\n",
       "</table>\n",
       "<p>572 rows × 2 columns</p>\n",
       "</div>"
      ],
      "text/plain": [
       "                  title                                                img\n",
       "0               뷰티풀 군바리  https://shared-comic.pstatic.net/thumb/webtoon...\n",
       "1               퀘스트지상주의  https://shared-comic.pstatic.net/thumb/webtoon...\n",
       "2                  신의 탑  https://shared-comic.pstatic.net/thumb/webtoon...\n",
       "3             장씨세가 호위무사  https://shared-comic.pstatic.net/thumb/webtoon...\n",
       "4    신화급 귀속 아이템을 손에 넣었다  https://shared-comic.pstatic.net/thumb/webtoon...\n",
       "..                  ...                                                ...\n",
       "567           밀실 마피아 게임  https://shared-comic.pstatic.net/thumb/webtoon...\n",
       "568            아마도, 굿모닝  https://shared-comic.pstatic.net/thumb/webtoon...\n",
       "569          천년간 노려왔습니다  https://shared-comic.pstatic.net/thumb/webtoon...\n",
       "570              그림자 잡기  https://shared-comic.pstatic.net/thumb/webtoon...\n",
       "571                어떤소란  https://shared-comic.pstatic.net/thumb/webtoon...\n",
       "\n",
       "[572 rows x 2 columns]"
      ]
     },
     "execution_count": 41,
     "metadata": {},
     "output_type": "execute_result"
    }
   ],
   "source": [
    "'''\n",
    "네이버 웹툰 Thumbnail 다운\n",
    "'''\n",
    "html = requests.get('https://comic.naver.com/webtoon/weekday')\n",
    "bsObj = bs(html.text, \"html.parser\")\n",
    "\n",
    "titles = bsObj.select('.title')\n",
    "thumbs = bsObj.findAll('div', {'class': 'thumb'})\n",
    "\n",
    "data = []\n",
    "for i in range(len(titles)):\n",
    "    img = thumbs[i].find('img')['src']\n",
    "    title = re.sub('[^0-9a-zA-Zㄱ-힗]', '', titles[i].text)\n",
    "    data.append([titles[i].text, img])\n",
    "    urlretrieve(img, './img/'+title+'.jpg')\n",
    "\n",
    "df = pd.DataFrame(data, columns=['title', 'img'])\n",
    "df"
   ]
  },
  {
   "cell_type": "code",
   "execution_count": 18,
   "metadata": {},
   "outputs": [
    {
     "name": "stdout",
     "output_type": "stream",
     "text": [
      "8.1°\n",
      "\n"
     ]
    }
   ],
   "source": [
    "'''\n",
    "네이버 날씨\n",
    "'''\n",
    "html = requests.get('https://weather.naver.com/')\n",
    "bsObj = bs(html.text, \"html.parser\")\n",
    "\n",
    "weather = bsObj.find('strong', {'class': 'current'})\n",
    "\n",
    "print(weather.text[6:])"
   ]
  },
  {
   "cell_type": "code",
   "execution_count": 21,
   "metadata": {},
   "outputs": [
    {
     "name": "stderr",
     "output_type": "stream",
     "text": [
      "C:\\Users\\BeomSeok\\AppData\\Local\\Temp\\ipykernel_122528\\4106325323.py:4: DeprecationWarning: executable_path has been deprecated, please pass in a Service object\n",
      "  driver = webdriver.Chrome('chromedriver.exe')           # 크롬을 이용해 불러옴\n"
     ]
    },
    {
     "name": "stdout",
     "output_type": "stream",
     "text": [
      "31,069,000\n"
     ]
    }
   ],
   "source": [
    "'''\n",
    "비트코인 가격 조회\n",
    "'''\n",
    "driver = webdriver.Chrome('chromedriver.exe')           # 크롬을 이용해 불러옴\n",
    "driver.get('https://www.bithumb.com/trade/order/BTC_KRW')\n",
    "\n",
    "time.sleep(3)                                                  # 페이지 로드 전에 하위 코드 실행 방지\n",
    "\n",
    "html = driver.page_source\n",
    "bsObj = bs(html)\n",
    "\n",
    "bit = bsObj.select('span#assetRealBTC_KRW')\n",
    "\n",
    "print(bit[0].text)"
   ]
  },
  {
   "cell_type": "code",
   "execution_count": 60,
   "metadata": {},
   "outputs": [
    {
     "name": "stderr",
     "output_type": "stream",
     "text": [
      "C:\\Users\\BeomSeok\\AppData\\Local\\Temp\\ipykernel_122528\\3950333749.py:4: DeprecationWarning: executable_path has been deprecated, please pass in a Service object\n",
      "  driver = webdriver.Chrome('chromedriver.exe')                   # 크롬을 이용해 불러옴\n"
     ]
    },
    {
     "ename": "ElementNotInteractableException",
     "evalue": "Message: element not interactable\n  (Session info: chrome=110.0.5481.178)\nStacktrace:\nBacktrace:\n\t(No symbol) [0x008137D3]\n\t(No symbol) [0x007A8B81]\n\t(No symbol) [0x006AB230]\n\t(No symbol) [0x006D8586]\n\t(No symbol) [0x006D76A7]\n\t(No symbol) [0x006FB41C]\n\t(No symbol) [0x006D2B96]\n\t(No symbol) [0x006FB774]\n\t(No symbol) [0x00711215]\n\t(No symbol) [0x006FB216]\n\t(No symbol) [0x006D0D97]\n\t(No symbol) [0x006D253D]\n\tGetHandleVerifier [0x00A8ABF2+2510930]\n\tGetHandleVerifier [0x00AB8EC1+2700065]\n\tGetHandleVerifier [0x00ABC86C+2714828]\n\tGetHandleVerifier [0x008C3480+645344]\n\t(No symbol) [0x007B0FD2]\n\t(No symbol) [0x007B6C68]\n\t(No symbol) [0x007B6D4B]\n\t(No symbol) [0x007C0D6B]\n\tBaseThreadInitThunk [0x75CD7D69+25]\n\tRtlInitializeExceptionChain [0x7785BB9B+107]\n\tRtlClearBits [0x7785BB1F+191]\n",
     "output_type": "error",
     "traceback": [
      "\u001b[1;31m---------------------------------------------------------------------------\u001b[0m",
      "\u001b[1;31mElementNotInteractableException\u001b[0m           Traceback (most recent call last)",
      "Cell \u001b[1;32mIn[60], line 11\u001b[0m\n\u001b[0;32m      9\u001b[0m search \u001b[39m=\u001b[39m driver\u001b[39m.\u001b[39mfind_element(By\u001b[39m.\u001b[39mCSS_SELECTOR, \u001b[39m'\u001b[39m\u001b[39m#search\u001b[39m\u001b[39m'\u001b[39m)        \u001b[39m# 검색어 창 찾기\u001b[39;00m\n\u001b[0;32m     10\u001b[0m time\u001b[39m.\u001b[39msleep(\u001b[39m2\u001b[39m)\n\u001b[1;32m---> 11\u001b[0m search\u001b[39m.\u001b[39;49msend_keys(\u001b[39m'\u001b[39;49m\u001b[39mchatgpt\u001b[39;49m\u001b[39m'\u001b[39;49m)\n\u001b[0;32m     12\u001b[0m search\u001b[39m.\u001b[39msend_keys(Keys\u001b[39m.\u001b[39mENTER)\n",
      "File \u001b[1;32m~\\AppData\\Local\\Packages\\PythonSoftwareFoundation.Python.3.10_qbz5n2kfra8p0\\LocalCache\\local-packages\\Python310\\site-packages\\selenium\\webdriver\\remote\\webelement.py:230\u001b[0m, in \u001b[0;36mWebElement.send_keys\u001b[1;34m(self, *value)\u001b[0m\n\u001b[0;32m    227\u001b[0m             remote_files\u001b[39m.\u001b[39mappend(\u001b[39mself\u001b[39m\u001b[39m.\u001b[39m_upload(file))\n\u001b[0;32m    228\u001b[0m         value \u001b[39m=\u001b[39m \u001b[39m\"\u001b[39m\u001b[39m\\n\u001b[39;00m\u001b[39m\"\u001b[39m\u001b[39m.\u001b[39mjoin(remote_files)\n\u001b[1;32m--> 230\u001b[0m \u001b[39mself\u001b[39;49m\u001b[39m.\u001b[39;49m_execute(\n\u001b[0;32m    231\u001b[0m     Command\u001b[39m.\u001b[39;49mSEND_KEYS_TO_ELEMENT, {\u001b[39m\"\u001b[39;49m\u001b[39mtext\u001b[39;49m\u001b[39m\"\u001b[39;49m: \u001b[39m\"\u001b[39;49m\u001b[39m\"\u001b[39;49m\u001b[39m.\u001b[39;49mjoin(keys_to_typing(value)), \u001b[39m\"\u001b[39;49m\u001b[39mvalue\u001b[39;49m\u001b[39m\"\u001b[39;49m: keys_to_typing(value)}\n\u001b[0;32m    232\u001b[0m )\n",
      "File \u001b[1;32m~\\AppData\\Local\\Packages\\PythonSoftwareFoundation.Python.3.10_qbz5n2kfra8p0\\LocalCache\\local-packages\\Python310\\site-packages\\selenium\\webdriver\\remote\\webelement.py:403\u001b[0m, in \u001b[0;36mWebElement._execute\u001b[1;34m(self, command, params)\u001b[0m\n\u001b[0;32m    401\u001b[0m     params \u001b[39m=\u001b[39m {}\n\u001b[0;32m    402\u001b[0m params[\u001b[39m\"\u001b[39m\u001b[39mid\u001b[39m\u001b[39m\"\u001b[39m] \u001b[39m=\u001b[39m \u001b[39mself\u001b[39m\u001b[39m.\u001b[39m_id\n\u001b[1;32m--> 403\u001b[0m \u001b[39mreturn\u001b[39;00m \u001b[39mself\u001b[39;49m\u001b[39m.\u001b[39;49m_parent\u001b[39m.\u001b[39;49mexecute(command, params)\n",
      "File \u001b[1;32m~\\AppData\\Local\\Packages\\PythonSoftwareFoundation.Python.3.10_qbz5n2kfra8p0\\LocalCache\\local-packages\\Python310\\site-packages\\selenium\\webdriver\\remote\\webdriver.py:440\u001b[0m, in \u001b[0;36mWebDriver.execute\u001b[1;34m(self, driver_command, params)\u001b[0m\n\u001b[0;32m    438\u001b[0m response \u001b[39m=\u001b[39m \u001b[39mself\u001b[39m\u001b[39m.\u001b[39mcommand_executor\u001b[39m.\u001b[39mexecute(driver_command, params)\n\u001b[0;32m    439\u001b[0m \u001b[39mif\u001b[39;00m response:\n\u001b[1;32m--> 440\u001b[0m     \u001b[39mself\u001b[39;49m\u001b[39m.\u001b[39;49merror_handler\u001b[39m.\u001b[39;49mcheck_response(response)\n\u001b[0;32m    441\u001b[0m     response[\u001b[39m\"\u001b[39m\u001b[39mvalue\u001b[39m\u001b[39m\"\u001b[39m] \u001b[39m=\u001b[39m \u001b[39mself\u001b[39m\u001b[39m.\u001b[39m_unwrap_value(response\u001b[39m.\u001b[39mget(\u001b[39m\"\u001b[39m\u001b[39mvalue\u001b[39m\u001b[39m\"\u001b[39m, \u001b[39mNone\u001b[39;00m))\n\u001b[0;32m    442\u001b[0m     \u001b[39mreturn\u001b[39;00m response\n",
      "File \u001b[1;32m~\\AppData\\Local\\Packages\\PythonSoftwareFoundation.Python.3.10_qbz5n2kfra8p0\\LocalCache\\local-packages\\Python310\\site-packages\\selenium\\webdriver\\remote\\errorhandler.py:245\u001b[0m, in \u001b[0;36mErrorHandler.check_response\u001b[1;34m(self, response)\u001b[0m\n\u001b[0;32m    243\u001b[0m         alert_text \u001b[39m=\u001b[39m value[\u001b[39m\"\u001b[39m\u001b[39malert\u001b[39m\u001b[39m\"\u001b[39m]\u001b[39m.\u001b[39mget(\u001b[39m\"\u001b[39m\u001b[39mtext\u001b[39m\u001b[39m\"\u001b[39m)\n\u001b[0;32m    244\u001b[0m     \u001b[39mraise\u001b[39;00m exception_class(message, screen, stacktrace, alert_text)  \u001b[39m# type: ignore[call-arg]  # mypy is not smart enough here\u001b[39;00m\n\u001b[1;32m--> 245\u001b[0m \u001b[39mraise\u001b[39;00m exception_class(message, screen, stacktrace)\n",
      "\u001b[1;31mElementNotInteractableException\u001b[0m: Message: element not interactable\n  (Session info: chrome=110.0.5481.178)\nStacktrace:\nBacktrace:\n\t(No symbol) [0x008137D3]\n\t(No symbol) [0x007A8B81]\n\t(No symbol) [0x006AB230]\n\t(No symbol) [0x006D8586]\n\t(No symbol) [0x006D76A7]\n\t(No symbol) [0x006FB41C]\n\t(No symbol) [0x006D2B96]\n\t(No symbol) [0x006FB774]\n\t(No symbol) [0x00711215]\n\t(No symbol) [0x006FB216]\n\t(No symbol) [0x006D0D97]\n\t(No symbol) [0x006D253D]\n\tGetHandleVerifier [0x00A8ABF2+2510930]\n\tGetHandleVerifier [0x00AB8EC1+2700065]\n\tGetHandleVerifier [0x00ABC86C+2714828]\n\tGetHandleVerifier [0x008C3480+645344]\n\t(No symbol) [0x007B0FD2]\n\t(No symbol) [0x007B6C68]\n\t(No symbol) [0x007B6D4B]\n\t(No symbol) [0x007C0D6B]\n\tBaseThreadInitThunk [0x75CD7D69+25]\n\tRtlInitializeExceptionChain [0x7785BB9B+107]\n\tRtlClearBits [0x7785BB1F+191]\n"
     ]
    }
   ],
   "source": [
    "'''\n",
    "유튜브 검색 (브라우저 제어)\n",
    "'''\n",
    "driver = webdriver.Chrome('chromedriver.exe')                   # 크롬을 이용해 불러옴\n",
    "driver.get('https://www.youtube.com/')\n",
    "\n",
    "time.sleep(3)                                                   # 페이지 로드 전에 하위 코드 실행 방지\n",
    "\n",
    "search = driver.find_element(By.CSS_SELECTOR, '#search')        # 검색어 창 찾기\n",
    "time.sleep(2)\n",
    "search.send_keys('chatgpt')\n",
    "search.send_keys(Keys.ENTER)"
   ]
  }
 ],
 "metadata": {
  "kernelspec": {
   "display_name": "Python 3",
   "language": "python",
   "name": "python3"
  },
  "language_info": {
   "codemirror_mode": {
    "name": "ipython",
    "version": 3
   },
   "file_extension": ".py",
   "mimetype": "text/x-python",
   "name": "python",
   "nbconvert_exporter": "python",
   "pygments_lexer": "ipython3",
   "version": "3.10.10"
  },
  "orig_nbformat": 4,
  "vscode": {
   "interpreter": {
    "hash": "aa5068faa8a621b42e0f47c217f3ae8f3a6bff26787205f94dee6122a71e748f"
   }
  }
 },
 "nbformat": 4,
 "nbformat_minor": 2
}
